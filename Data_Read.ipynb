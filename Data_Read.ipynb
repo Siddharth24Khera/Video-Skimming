{
 "cells": [
  {
   "cell_type": "code",
   "execution_count": 1,
   "metadata": {
    "collapsed": true
   },
   "outputs": [],
   "source": [
    "import os,shutil\n",
    "from PIL import Image\n",
    "import numpy as np\n",
    "import cv2\n",
    "from matplotlib import pyplot as plt\n",
    "from sklearn.decomposition import PCA"
   ]
  },
  {
   "cell_type": "code",
   "execution_count": 2,
   "metadata": {
    "collapsed": true
   },
   "outputs": [],
   "source": [
    "cur_dir = os.getcwd()\n",
    "\n",
    "dataset_dir = os.path.join(cur_dir,\"Dataset\")\n",
    "\n",
    "labels_dir = os.path.join(dataset_dir,\"labels\")\n",
    "frames_dir = os.path.join(dataset_dir,\"frames\")\n",
    "\n",
    "n_lecs = len(os.listdir(labels_dir))\n",
    "\n",
    "listOfLectures = []\n",
    "\n",
    "for lec in os.listdir(frames_dir):\n",
    "    frame_list = []\n",
    "    lec_path = os.path.join(frames_dir,lec)\n",
    "    for frame in os.listdir(lec_path):\n",
    "        frame_list.append([os.path.join(lec_path,frame),])\n",
    "    listOfLectures.append(frame_list)\n",
    "\n",
    "# print(listOfLectures[:2])"
   ]
  },
  {
   "cell_type": "code",
   "execution_count": 3,
   "metadata": {
    "collapsed": true
   },
   "outputs": [],
   "source": [
    "lec_num = 0\n",
    "for csv in os.listdir(labels_dir):\n",
    "    csv_path = os.path.join(labels_dir,csv)\n",
    "    with open(csv_path,'r') as input:\n",
    "        data = input.read()\n",
    "        data = data.split()\n",
    "        for i in range(len(data)):\n",
    "            listOfLectures[lec_num][i].append(int(data[i]))\n",
    "    lec_num+=1"
   ]
  },
  {
   "cell_type": "code",
   "execution_count": null,
   "metadata": {},
   "outputs": [],
   "source": [
    "# listOfLectures : list of lectures where each lecture contains a list of form [frame_number, whether hit or miss ]\n",
    "im = cv2.imread(listOfLectures[0][134][0],0)\n",
    "# cv2.imshow('image',im)\n",
    "# cv2.waitKey(0)\n",
    "# cv2.destroyAllWindows()\n",
    "# print(im.dtype)\n",
    "x = cv2.calcHist([im],[0],None,[256],[0,256])\n",
    "# print(x)\n",
    "# plt.hist(im.ravel(),256,[0,256])\n",
    "# plt.show()"
   ]
  },
  {
   "cell_type": "code",
   "execution_count": 4,
   "metadata": {
    "collapsed": true
   },
   "outputs": [],
   "source": [
    "def ECR(frame, next_frame, width, height, crop=True, dilate_rate = 5):\n",
    "    safe_div = lambda x,y: 0 if y == 0 else x / y\n",
    "    if crop:\n",
    "        startY = int(height * 0.1)\n",
    "        endY = int(height * 0.9)\n",
    "        startX = int(width * 0.1)\n",
    "        endX = int(width * 0.9)\n",
    "        frame = frame[startY:endY, startX:endX]\n",
    "        next_frame = next_frame[startY:endY, startX:endX]\n",
    "\n",
    "    edge = cv2.Canny(frame, 0, 200)\n",
    "    dilated = cv2.dilate(edge, np.ones((dilate_rate, dilate_rate)))\n",
    "    inverted = (255 - dilated)\n",
    "    edge2 = cv2.Canny(next_frame, 0, 200)\n",
    "    dilated2 = cv2.dilate(edge2, np.ones((dilate_rate, dilate_rate)))\n",
    "    inverted2 = (255 - dilated2)\n",
    "    log_and1 = (edge2 & inverted)\n",
    "    log_and2 = (edge & inverted2)\n",
    "    pixels_sum_new = np.sum(edge)\n",
    "    pixels_sum_old = np.sum(edge2)\n",
    "    out_pixels = np.sum(log_and1)\n",
    "    in_pixels = np.sum(log_and2)\n",
    "    return max(safe_div(float(in_pixels),float(pixels_sum_new)), safe_div(float(out_pixels),float(pixels_sum_old)))"
   ]
  },
  {
   "cell_type": "code",
   "execution_count": 5,
   "metadata": {},
   "outputs": [
    {
     "name": "stdout",
     "output_type": "stream",
     "text": [
      "['C:\\\\Users\\\\Siddharth Khera\\\\Dropbox\\\\This Sem\\\\ELL888 - Deep Learning\\\\assn2\\\\Dataset\\\\frames\\\\lec1\\\\l1s00000.jpg', 0]\n",
      "['C:\\\\Users\\\\Siddharth Khera\\\\Dropbox\\\\This Sem\\\\ELL888 - Deep Learning\\\\assn2\\\\Dataset\\\\frames\\\\lec1\\\\l1s00000.jpg', 0]\n",
      "['C:\\\\Users\\\\Siddharth Khera\\\\Dropbox\\\\This Sem\\\\ELL888 - Deep Learning\\\\assn2\\\\Dataset\\\\frames\\\\lec1\\\\l1s00000.jpg', 0, [13095882, 0.9908933217692975, 38638.0]]\n",
      "['C:\\\\Users\\\\Siddharth Khera\\\\Dropbox\\\\This Sem\\\\ELL888 - Deep Learning\\\\assn2\\\\Dataset\\\\frames\\\\lec1\\\\l1s00000.jpg', 0, [13095882, 0.9908933217692975, 38638.0], array([-10702.11322391,   -780.05517163,     51.03489705,  -2792.60960977,\n",
      "          738.34880268])]\n"
     ]
    }
   ],
   "source": [
    "for i in range(len(listOfLectures)):\n",
    "    # i is lec number\n",
    "    \n",
    "    pca = PCA(n_components=5)\n",
    "    sample_image = cv2.imread(listOfLectures[i][0][0],0)\n",
    "    X= sample_image.ravel().reshape((1,-1))\n",
    "#     print(X.shape)\n",
    "    for j in range(1,len(listOfLectures[i])-1):\n",
    "        im = cv2.imread(listOfLectures[i][j][0],0).ravel().reshape((1,-1))\n",
    "#       print(im.shape)\n",
    "        X = np.vstack((X,im))\n",
    "    pca.fit(X)\n",
    "    X = pca.transform(X)\n",
    "        \n",
    "#     print(X.shape)\n",
    "\n",
    "    \n",
    "    for j in range(len(listOfLectures[i])-1):\n",
    "        # j is frame nu\"mber\n",
    "        frame_params = []\n",
    "        f_info = listOfLectures[i][j]\n",
    "        print(f_info)\n",
    "        f_info_next = listOfLectures[i][j+1]\n",
    "        # As of now , list of form [Path,missOrHit]\n",
    "        im = cv2.imread(f_info[0],0) # Grayscale image of frame\n",
    "        im_n = cv2.imread(f_info_next[0],0) # Grayscale image of frame\n",
    "        \n",
    "        sad = np.sum(np.abs(im_n-im))\n",
    "        frame_params.append(sad)\n",
    "        \n",
    "        ecr = ECR(im,im_n,im.shape[1],im.shape[0])\n",
    "        frame_params.append(ecr)\n",
    "        \n",
    "        im_h = cv2.calcHist([im],[0],None,[256],[0,256])\n",
    "        im_nh = cv2.calcHist([im_n],[0],None,[256],[0,256])\n",
    "        hd = np.sum(np.abs(im_h-im_nh))\n",
    "        frame_params.append(hd)\n",
    "#         print(frame_params)\n",
    "        print(f_info)\n",
    "        f_info.append(frame_params)\n",
    "        print(f_info)\n",
    "        f_info.append(X[j])\n",
    "        print(f_info)\n",
    "        break        \n",
    "    break\n",
    "        \n",
    "        "
   ]
  },
  {
   "cell_type": "code",
   "execution_count": null,
   "metadata": {
    "collapsed": true
   },
   "outputs": [],
   "source": []
  }
 ],
 "metadata": {
  "kernelspec": {
   "display_name": "Python 3",
   "language": "python",
   "name": "python3"
  },
  "language_info": {
   "codemirror_mode": {
    "name": "ipython",
    "version": 3
   },
   "file_extension": ".py",
   "mimetype": "text/x-python",
   "name": "python",
   "nbconvert_exporter": "python",
   "pygments_lexer": "ipython3",
   "version": "3.6.7"
  }
 },
 "nbformat": 4,
 "nbformat_minor": 2
}
