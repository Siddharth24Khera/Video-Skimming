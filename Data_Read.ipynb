{
 "cells": [
  {
   "cell_type": "code",
   "execution_count": 5,
   "metadata": {
    "collapsed": true
   },
   "outputs": [],
   "source": [
    "import os,shutil\n",
    "from PIL import Image\n",
    "import numpy as np"
   ]
  },
  {
   "cell_type": "code",
   "execution_count": 23,
   "metadata": {},
   "outputs": [],
   "source": [
    "cur_dir = os.getcwd()\n",
    "\n",
    "dataset_dir = os.path.join(cur_dir,\"Dataset\")\n",
    "\n",
    "labels_dir = os.path.join(dataset_dir,\"labels\")\n",
    "frames_dir = os.path.join(dataset_dir,\"frames\")\n",
    "\n",
    "n_lecs = len(os.listdir(labels_dir))\n",
    "\n",
    "listOfLectures = []\n",
    "\n",
    "for lec in os.listdir(frames_dir):\n",
    "    frame_list = []\n",
    "    lec_path = os.path.join(frames_dir,lec)\n",
    "    for frame in os.listdir(lec_path):\n",
    "        frame_list.append([os.path.join(lec_path,frame),])\n",
    "    listOfLectures.append(frame_list)\n",
    "\n",
    "# print(listOfLectures[:2])"
   ]
  },
  {
   "cell_type": "code",
   "execution_count": 22,
   "metadata": {},
   "outputs": [],
   "source": [
    "lec_num = 0\n",
    "for csv in os.listdir(labels_dir):\n",
    "    csv_path = os.path.join(labels_dir,csv)\n",
    "    with open(csv_path,'r') as input:\n",
    "        data = input.read()\n",
    "        data = data.split()\n",
    "        for i in range(len(data)):\n",
    "            listOfLectures[lec_num][i].append(int(data[i]))\n",
    "    lec_num+=1"
   ]
  },
  {
   "cell_type": "code",
   "execution_count": null,
   "metadata": {
    "collapsed": true
   },
   "outputs": [],
   "source": [
    "# listOfLectures : list of lectures where each lecture contains a list of form [frame_number, whether hit or miss ]\n",
    "\n"
   ]
  }
 ],
 "metadata": {
  "kernelspec": {
   "display_name": "Python 3",
   "language": "python",
   "name": "python3"
  },
  "language_info": {
   "codemirror_mode": {
    "name": "ipython",
    "version": 3
   },
   "file_extension": ".py",
   "mimetype": "text/x-python",
   "name": "python",
   "nbconvert_exporter": "python",
   "pygments_lexer": "ipython3",
   "version": "3.6.1"
  }
 },
 "nbformat": 4,
 "nbformat_minor": 2
}
